{
 "cells": [
  {
   "cell_type": "markdown",
   "metadata": {},
   "source": [
    "# The Degenerate Distribution\n"
   ]
  },
  {
   "cell_type": "markdown",
   "metadata": {},
   "source": [
    "## Concepts\n",
    "\n",
    " * Probability distributions\n",
    " * Random variables\n",
    " * Discrete probability distributions\n",
    " * Probability mass function\n",
    " * Cumulative distribution function"
   ]
  },
  {
   "cell_type": "markdown",
   "metadata": {},
   "source": [
    "A **random variable** can be seen as a number-producing machine. Whenever we ask, it will return a value, potentially a different value each time. A physical example of a random variable is a die; each time we roll it we get a number between one and six (inclusive).\n",
    "\n",
    "The **probability distribution** of a random variable is a description of a random variable, mapping all possible values (the **sample space**) to their corresponding probability. A random variable is said to be distributed according to some probability distribution.\n",
    "\n",
    "The distribution of a die is an example if a specific type of distribution called a **discrete probability distribution**, in which the value returned is an integer (later we'll talk about random variables that return real numbers or other objects).\n",
    "\n",
    "To start our journey we will discuss the simplest, least interesting possible random variable, one that matches a **degenerate distribution**. Every time we ask it for a value it returns 0.\n",
    "\n",
    "Discrete random variables can be described by a **probability mass function** (**PMF**), which gives the probability that, when we asked, the distribution will return a particular value. In this case, the probability we will get a 0 is 1, and the probability we will get anything else is 0. We write this like\n",
    "\n",
    "$$\n",
    "    f(k) =\n",
    "    \\begin{cases}\n",
    "      1, & \\text{if}\\ k=0 \\\\\n",
    "      0, & \\text{otherwise}\n",
    "    \\end{cases}\n",
    "$$\n",
    "\n",
    "In general,\n",
    "\n",
    "$$\n",
    "    f(k) = P[X = k]\n",
    "$$\n",
    "\n",
    "A related function used to describe probability distributions is the **cumulative distribution function** (**CDF**). This gives the probability that the returned value will be less than or equal to the specified number, i.e.,\n",
    "\n",
    "$$\n",
    "    F(k) = P[X \\le k]\n",
    "$$\n",
    "\n",
    "In the case of a degenerate distribution, the probability the returned value is less than or equal to anything less than zero is zero, and the probability the returned value is less that or equal to zero or anything larger is 1.\n",
    "\n",
    "$$\n",
    "    F(k) =\n",
    "    \\begin{cases}\n",
    "      0, & \\text{if}\\ k < 0 \\\\\n",
    "      1, & \\text{if}\\ k \\ge 0\n",
    "    \\end{cases}\n",
    "$$\n",
    "\n",
    "In general for any discrete distribution,\n",
    "\n",
    "$$\n",
    "    F(k) = \\sum_{n=-\\infty}^{k} f(k)\n",
    "$$\n"
   ]
  },
  {
   "cell_type": "code",
   "execution_count": null,
   "metadata": {},
   "outputs": [],
   "source": []
  }
 ],
 "metadata": {
  "kernelspec": {
   "display_name": "Python 3",
   "language": "python",
   "name": "python3"
  },
  "language_info": {
   "codemirror_mode": {
    "name": "ipython",
    "version": 3
   },
   "file_extension": ".py",
   "mimetype": "text/x-python",
   "name": "python",
   "nbconvert_exporter": "python",
   "pygments_lexer": "ipython3",
   "version": "3.6.7"
  }
 },
 "nbformat": 4,
 "nbformat_minor": 2
}
