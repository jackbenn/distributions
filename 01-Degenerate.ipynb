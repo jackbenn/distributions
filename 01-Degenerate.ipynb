{
 "cells": [
  {
   "cell_type": "code",
   "execution_count": 2,
   "metadata": {},
   "outputs": [],
   "source": [
    "import numpy as np\n",
    "import matplotlib.pyplot as plt\n",
    "from scipy import stats\n",
    "plt.style.use('ggplot')\n",
    "%matplotlib inline"
   ]
  },
  {
   "cell_type": "markdown",
   "metadata": {},
   "source": [
    "# The Degenerate Distribution\n"
   ]
  },
  {
   "cell_type": "markdown",
   "metadata": {},
   "source": [
    "## Concepts\n",
    "\n",
    " * Probability distributions\n",
    " * Random variables\n",
    " * Discrete probability distributions\n",
    " * Probability mass function\n",
    " * Cumulative distribution function"
   ]
  },
  {
   "cell_type": "markdown",
   "metadata": {},
   "source": [
    "A **random variable** can be seen as a number-producing machine. Whenever we ask, it will return a value, potentially a different value each time. A physical example of a random variable is a die; each time we roll it we get a number between one and six (inclusive).\n",
    "\n",
    "The **probability distribution** of a random variable is a description of a random variable, mapping all possible values (the **sample space**) to their corresponding probability. A random variable is said to be distributed according to some probability distribution.\n",
    "\n",
    "The distribution of a die is an example if a specific type of distribution called a **discrete probability distribution**, in which the value returned is an integer (later we'll talk about random variables that return real numbers or other objects).\n",
    "\n",
    "To start our journey we will discuss the simplest, least interesting possible random variable, one that matches a **degenerate distribution**. Every time we ask it for a value it returns 0.\n",
    "\n",
    "Discrete random variables can be described by a **probability mass function** (**PMF**), which gives the probability that, when we asked, the distribution will return a particular value. In this case, the probability we will get a 0 is 1, and the probability we will get anything else is 0. We write this like\n",
    "\n",
    "$$\n",
    "    f(k) =\n",
    "    \\begin{cases}\n",
    "      1, & \\text{if}\\ k=0 \\\\\n",
    "      0, & \\text{otherwise}\n",
    "    \\end{cases}\n",
    "$$\n",
    "\n",
    "In general,\n",
    "\n",
    "$$\n",
    "    f(k) = P[X = k]\n",
    "$$\n",
    "\n",
    "A related function used to describe probability distributions is the **cumulative distribution function** (**CDF**). This gives the probability that the returned value will be less than or equal to the specified number, i.e.,\n",
    "\n",
    "$$\n",
    "    F(k) = P[X \\le k]\n",
    "$$\n",
    "\n",
    "In the case of a degenerate distribution, the probability the returned value is less than or equal to anything less than zero is zero, and the probability the returned value is less that or equal to zero or anything larger is 1.\n",
    "\n",
    "$$\n",
    "    F(k) =\n",
    "    \\begin{cases}\n",
    "      0, & \\text{if}\\ k < 0 \\\\\n",
    "      1, & \\text{if}\\ k \\ge 0\n",
    "    \\end{cases}\n",
    "$$\n",
    "\n",
    "In general for any discrete distribution,\n",
    "\n",
    "$$\n",
    "    F(k) = \\sum_{n=-\\infty}^{k} f(k)\n",
    "$$\n",
    "\n",
    "This is a step function:"
   ]
  },
  {
   "cell_type": "code",
   "execution_count": 60,
   "metadata": {},
   "outputs": [
    {
     "data": {
      "image/png": "[encoded data removed]",
      "text/plain": [
       "<Figure size 720x288 with 1 Axes>"
      ]
     },
     "metadata": {
      "needs_background": "light"
     },
     "output_type": "display_data"
    }
   ],
   "source": [
    "fig, ax = plt.subplots(figsize=(10,4))\n",
    "colors = colors = [x['color'] for x in plt.rcParams['axes.prop_cycle']]\n",
    "ax.plot([-1, 0], [0, 0], color=colors[0])\n",
    "ax.plot([0,  1], [1, 1], color=colors[0])\n",
    "ax.plot([0], [0], marker='o', ms=10, color=colors[0], fillstyle='none')\n",
    "ax.plot([0], [1], marker='o', ms=10, color=colors[0])\n",
    "ax.set_title(\"CDF of degenerate distribution\");"
   ]
  },
  {
   "cell_type": "code",
   "execution_count": 2,
   "metadata": {},
   "outputs": [
    {
     "data": {
      "image/png": "[encoded data removed]",
      "text/plain": [
       "<Figure size 720x288 with 1 Axes>"
      ]
     },
     "metadata": {
      "needs_background": "light"
     },
     "output_type": "display_data"
    }
   ],
   "source": [
    "xpts = np.linspace(-1, 1, 100)\n",
    "fig, ax = plt.subplots(figsize=(10,4))\n",
    "ax.plot(xpts, stats.randint(0, 1).cdf(xpts))\n",
    "ax.set_title(\"CDF of degenerate distribution\");"
   ]
  },
  {
   "cell_type": "markdown",
   "metadata": {},
   "source": [
    "In general for all distributions.\n",
    "\n",
    "$$\\lim_{k \\to -\\infty} F(k) = 0$$\n",
    "\n",
    "and\n",
    "\n",
    "$$\\lim_{k \\to \\infty} F(k) = 1$$"
   ]
  },
  {
   "cell_type": "code",
   "execution_count": 23,
   "metadata": {},
   "outputs": [],
   "source": [
    "colors = [x['color'] for x in plt.rcParams['axes.prop_cycle']]\n"
   ]
  },
  {
   "cell_type": "code",
   "execution_count": 24,
   "metadata": {},
   "outputs": [
    {
     "data": {
      "text/plain": [
       "['#E24A33', '#348ABD', '#988ED5', '#777777', '#FBC15E', '#8EBA42', '#FFB5B8']"
      ]
     },
     "execution_count": 24,
     "metadata": {},
     "output_type": "execute_result"
    }
   ],
   "source": [
    "colors"
   ]
  },
  {
   "cell_type": "code",
   "execution_count": 20,
   "metadata": {},
   "outputs": [
    {
     "data": {
      "text/plain": [
       "cycler.Cycler"
      ]
     },
     "execution_count": 20,
     "metadata": {},
     "output_type": "execute_result"
    }
   ],
   "source": [
    "type(colors)"
   ]
  },
  {
   "cell_type": "code",
   "execution_count": 35,
   "metadata": {},
   "outputs": [
    {
     "data": {
      "text/plain": [
       "['full', 'left', 'right', 'bottom', 'top', 'none']"
      ]
     },
     "execution_count": 35,
     "metadata": {},
     "output_type": "execute_result"
    }
   ],
   "source": [
    "from matplotlib.lines import Line2D\n",
    "\n",
    "list(Line2D.fillStyles)"
   ]
  },
  {
   "cell_type": "code",
   "execution_count": null,
   "metadata": {},
   "outputs": [],
   "source": []
  }
 ],
 "metadata": {
  "kernelspec": {
   "display_name": "Python 3",
   "language": "python",
   "name": "python3"
  },
  "language_info": {
   "codemirror_mode": {
    "name": "ipython",
    "version": 3
   },
   "file_extension": ".py",
   "mimetype": "text/x-python",
   "name": "python",
   "nbconvert_exporter": "python",
   "pygments_lexer": "ipython3",
   "version": "3.7.1"
  }
 },
 "nbformat": 4,
 "nbformat_minor": 2
}
