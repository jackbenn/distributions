{
 "cells": [
  {
   "cell_type": "markdown",
   "metadata": {},
   "source": [
    "This is the beginning of a series of posts describing different distributions, maybe as a blog, maybe as a book. The idea is that article will discuss a different distribution. Each article will connect to previously-discussed distribution, and each will introduce some concepts of probability."
   ]
  },
  {
   "cell_type": "markdown",
   "metadata": {},
   "source": [
    "Articles\n",
    " * Degenerate\n",
    "   * Random variables\n",
    "   * Probability mass function\n",
    "   * Cumulative distribution function\n",
    " * Bernoulli\n",
    "   * Parameters\n",
    "   * Expected value\n",
    "   * Variance\n",
    " * Uniform discrete?\n",
    "   * Alternate parameterizations?\n",
    "   * Expected value and variance again\n",
    " * Geometric\n",
    "   * Infinite support\n",
    "   * Skew\n",
    "   * Kurtosis\n",
    " * Binomial\n",
    "   * Convolution\n",
    " * Hypergeometic\n",
    "   * Hypothesis testing\n",
    "   * Calculating probabilities with combinatorics \n",
    " * Negative binomial\n",
    "   * As a convolution of geometric\n",
    " * Negative hypergeometric\n",
    " * Uniform\n",
    "   * Continuous distributions\n",
    "   * Probability density function\n",
    "   * CDF revisited\n",
    "   * Location and scale parameters\n",
    "   * Expected value on continuous functions\n",
    " * Normal distribution\n",
    "   * The central limit theorem\n",
    "   * Maybe MLE??\n",
    " * Exponential\n",
    "   * Skew, again\n",
    "   * Median\n",
    "   * Mode\n",
    " * Laplace\n",
    "   * (After MLE) Medians errors\n",
    " * Poisson distribution\n",
    "   * Maximum likelihood??\n",
    " * Gamma distribution\n",
    "   * Conjugate distributions\n",
    " * Chi squared\n",
    "   * Special case of gamma\n",
    "   * Hypothesis testing\n",
    " * F\n",
    "   * More hypothesis testing\n",
    " * T\n",
    "   * Even more hypothesis testing\n",
    " * Beta distribution\n",
    "   * Order parameters\n",
    "   * Bayesian statistics\n",
    " * Pareto\n",
    "   * Long/heavy tails\n",
    " * Extreme value\n",
    "   * GEVT\n",
    " * Cauchy\n",
    "   * Questionable behavior\n",
    " * Categorical\n",
    "   * Categorical outcomes\n",
    " * Multinomial\n",
    "   * Categorical, continued\n",
    " * Multivariate hypergeometric\n",
    " * Dirichlet\n",
    "\n",
    "Zipf?\n",
    "Irwin-Hall\n",
    "Beta-binomial"
   ]
  },
  {
   "cell_type": "markdown",
   "metadata": {},
   "source": [
    "Other concepts:\n",
    " * Truncated distributions\n",
    " * Moment-generating functions\n",
    " * Quantile function\n",
    " * Entropy\n",
    " * Fischer information\n",
    " * Survival function et al.\n"
   ]
  },
  {
   "cell_type": "markdown",
   "metadata": {},
   "source": [
    "### General approach\n",
    "\n",
    "Have some code to graph stuff.\n"
   ]
  },
  {
   "cell_type": "code",
   "execution_count": null,
   "metadata": {},
   "outputs": [],
   "source": []
  },
  {
   "cell_type": "code",
   "execution_count": null,
   "metadata": {},
   "outputs": [],
   "source": []
  },
  {
   "cell_type": "code",
   "execution_count": null,
   "metadata": {},
   "outputs": [],
   "source": []
  },
  {
   "cell_type": "code",
   "execution_count": null,
   "metadata": {},
   "outputs": [],
   "source": []
  }
 ],
 "metadata": {
  "kernelspec": {
   "display_name": "Python 3",
   "language": "python",
   "name": "python3"
  },
  "language_info": {
   "codemirror_mode": {
    "name": "ipython",
    "version": 3
   },
   "file_extension": ".py",
   "mimetype": "text/x-python",
   "name": "python",
   "nbconvert_exporter": "python",
   "pygments_lexer": "ipython3",
   "version": "3.6.7"
  }
 },
 "nbformat": 4,
 "nbformat_minor": 2
}
