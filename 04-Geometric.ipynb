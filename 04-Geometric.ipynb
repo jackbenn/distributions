{
 "cells": [
  {
   "cell_type": "markdown",
   "metadata": {},
   "source": [
    "# The Geometric distribution\n",
    "\n",
    "## Concepts\n",
    "\n",
    " * Infinite support\n",
    " * Skew, kurtosis, and higher moments"
   ]
  },
  {
   "cell_type": "markdown",
   "metadata": {},
   "source": [
    "In our previous distributions, there were a finite number of possible values. The possible values for which the PMF is non-zero are called the **support** of a discrete distribution. The geometric distribution is the first one where there are an infinite number of possible values.\n",
    "\n",
    "Suppose we flip a coin until we get heads. The number of tails before getting heads is given by the geometric distribution. So there is a More generally, if we repeatedly attempt something with a probability $p$ of success, the number of failures before the first success is given by the geometric distribution.\n",
    "\n",
    "The PMF of the distribution is given by\n",
    "\n",
    "$$\n",
    "f(k) = (1-p)^k p\n",
    "$$\n",
    "\n",
    "The CDF is given by\n",
    "$$\n",
    "F(k) = 1 - (1-p)^{k+1}\n",
    "$$"
   ]
  },
  {
   "cell_type": "markdown",
   "metadata": {},
   "source": [
    "The other distributions we've seen are symmetric around the mean, so the probability of a value some distance on one side of the mean is the same as the probability at that distance on the other side. For the geometric distribution, this isn't the case.\n",
    "\n",
    "When we talked about the expectation values of a distribution, we mentioned that higher moments might be useful. The first of these expectation of the third power, $\\mathbb{E}[X^3]$.\n",
    "\n",
    "Like the second power, that is not very interpretable, so like the variance, we will transform it to give something easier to compare, removing the mean and the variance.\n",
    "\n",
    "First, we "
   ]
  },
  {
   "cell_type": "code",
   "execution_count": null,
   "metadata": {},
   "outputs": [],
   "source": []
  }
 ],
 "metadata": {
  "kernelspec": {
   "display_name": "Python 3",
   "language": "python",
   "name": "python3"
  },
  "language_info": {
   "codemirror_mode": {
    "name": "ipython",
    "version": 3
   },
   "file_extension": ".py",
   "mimetype": "text/x-python",
   "name": "python",
   "nbconvert_exporter": "python",
   "pygments_lexer": "ipython3",
   "version": "3.7.6"
  }
 },
 "nbformat": 4,
 "nbformat_minor": 4
}
