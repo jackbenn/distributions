{
 "cells": [
  {
   "cell_type": "code",
   "execution_count": 1,
   "metadata": {},
   "outputs": [],
   "source": [
    "import numpy as np\n",
    "import matplotlib.pyplot as plt\n",
    "from scipy import stats\n",
    "plt.style.use('ggplot')\n",
    "%matplotlib inline"
   ]
  },
  {
   "cell_type": "markdown",
   "metadata": {},
   "source": [
    "# The Bernoulli distribution"
   ]
  },
  {
   "cell_type": "markdown",
   "metadata": {},
   "source": [
    "## Concepts\n",
    "\n",
    "* Parameters\n",
    "* Expectation values"
   ]
  },
  {
   "cell_type": "markdown",
   "metadata": {},
   "source": [
    "Our next distribution is the **Bernoulli distribution**. This one has a sample space (possible values) of 0 and 1.\n",
    "\n",
    "(what is a parameter)\n",
    "\n",
    "The Bernoulli distribution has a single parameter, $p$, which takes a value between 0 and 1 and gives the probability the of a value of 1. When describing the various functions that specify a distribution, we list the parameters after a semicolon. So the PMF is\n",
    "\n",
    "$$\n",
    "    f(k; p) =\n",
    "    \\begin{cases}\n",
    "      1-p, & \\text{if}\\ k=0 \\\\\n",
    "      p, & \\text{if}\\ k=1 \\\\\n",
    "      0, & \\text{otherwise}\n",
    "    \\end{cases}\n",
    "$$\n",
    "\n",
    "The CDF is given by\n",
    "\n",
    "$$\n",
    "    F(k; p) =\n",
    "    \\begin{cases}\n",
    "      0, & \\text{if}\\ k<0 \\\\\n",
    "      p, & \\text{if}\\ 0 \\le k < 1 \\\\\n",
    "      1, & \\text{if}\\ k \\ge 1\n",
    "    \\end{cases}\n",
    "$$\n",
    "\n"
   ]
  },
  {
   "cell_type": "code",
   "execution_count": 2,
   "metadata": {},
   "outputs": [
    {
     "data": {
      "image/png": "[encoded data removed]",
      "text/plain": [
       "<Figure size 720x288 with 1 Axes>"
      ]
     },
     "metadata": {
      "needs_background": "light"
     },
     "output_type": "display_data"
    }
   ],
   "source": [
    "xpts = np.linspace(-1, 2, 100)\n",
    "fig, ax = plt.subplots(figsize=(10,4))\n",
    "ax.plot(xpts, stats.bernoulli(0.75).cdf(xpts))\n",
    "ax.set_title(\"CDF of Bernoulli distribution with p=0.75\");"
   ]
  },
  {
   "cell_type": "markdown",
   "metadata": {},
   "source": [
    "One key measure of a distribution is the **mean**. For a discrete distribution this is\n",
    "\n",
    "$$\n",
    "\\mu_X = \\sum_{k=-\\infty}^{\\infty} k P[X = k]\n",
    "$$\n",
    "\n",
    "For a Bernoulli distribution, this is\n",
    "\n",
    "$$\n",
    "\\begin{align}\n",
    "\\mu & = 0 \\cdot (1-p) + 1 \\cdot p \\\\\n",
    " & = p\n",
    "\\end{align}\n",
    "$$\n",
    "\n",
    "What that says is, if we were to draw a large number of values from a Bernoulli distribution, the mean value would be $p$ (this is given by the **law of large numbers** which we'll talk about later).\n",
    "\n",
    "The mean of a distribution can be generalized to the **expectation value** of some function of a random variable. The expectation value of the function $g(X)$ is given by\n",
    "\n",
    "$$\n",
    "\\mathbb{E}[g(X)] = \\sum_{k=-\\infty}^{\\infty} g(k) P[X = k]\n",
    "$$\n",
    "\n",
    "so the mean is just the expectation value of the function $g(X) = X$.\n",
    "\n",
    "An obvious thing to take an expectaion value of is the function $g(X) = X^2$. That's interesting, but have to interpret; people don't have a good sense of the spread of a variable. A better, related measure is the expectation value is the variance of a random variable, given by\n",
    "$$\n",
    "\\begin{align}\n",
    "Var[X] &= \\mathbb{E}[(X - E[X])^2] \\\\\n",
    "       &= \\mathbb{E}[(X - \\mu_X)^2]\n",
    "\\end{align}\n",
    "$$\n",
    "\n",
    "Again, this is the variance of a large sample taken from the distribution.\n",
    "\n",
    "The variance of a Bernoulli distribution is\n",
    "\n",
    "$$\n",
    "\\begin{align}\n",
    "Var[X] & = (0 - \\mu)^2 \\cdot (1-p) + (1 - \\mu)^2 \\cdot p \\\\\n",
    "       & = (0 - p)^2 \\cdot (1-p) + (1 - p)^2 \\cdot p \\\\\n",
    "       & = p^2 - p^3 + p - 2p^2 + p^3 \\\\\n",
    "       & = p - p^2 \\\\\n",
    "       & = p(1-p)\n",
    "\\end{align}\n",
    "$$\n"
   ]
  },
  {
   "cell_type": "code",
   "execution_count": 3,
   "metadata": {},
   "outputs": [
    {
     "data": {
      "image/png": "[encoded data removed]",
      "text/plain": [
       "<Figure size 504x288 with 1 Axes>"
      ]
     },
     "metadata": {
      "needs_background": "light"
     },
     "output_type": "display_data"
    }
   ],
   "source": [
    "xpts = np.linspace(0, 1, 100)\n",
    "fig, ax = plt.subplots(figsize=(7,4))\n",
    "ax.plot(xpts, xpts * (1-xpts))\n",
    "ax.set_xlabel('p')\n",
    "ax.set_ylabel('variance')\n",
    "ax.set_title(\"Variance of a Bernoulli distribution as a function of $p$\");"
   ]
  },
  {
   "cell_type": "markdown",
   "metadata": {},
   "source": [
    "So the variance is 0 if $p=0$ or $p=1$ (as expected, since all value will be the same) and highest at $p=0.5$.\n",
    "\n",
    "Later we'll see extensions of expectations of third and forth powers of a variable, called *skew* and *kurtosis*."
   ]
  },
  {
   "cell_type": "code",
   "execution_count": null,
   "metadata": {},
   "outputs": [],
   "source": []
  }
 ],
 "metadata": {
  "kernelspec": {
   "display_name": "Python 3",
   "language": "python",
   "name": "python3"
  },
  "language_info": {
   "codemirror_mode": {
    "name": "ipython",
    "version": 3
   },
   "file_extension": ".py",
   "mimetype": "text/x-python",
   "name": "python",
   "nbconvert_exporter": "python",
   "pygments_lexer": "ipython3",
   "version": "3.7.6"
  }
 },
 "nbformat": 4,
 "nbformat_minor": 2
}
